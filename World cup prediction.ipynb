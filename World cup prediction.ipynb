{
 "cells": [
  {
   "cell_type": "code",
   "execution_count": 1,
   "id": "fd089368",
   "metadata": {},
   "outputs": [],
   "source": [
    "import random as rnd\n",
    "class Team:\n",
    "    LUCK = 0.0  \n",
    "    def __init__(self, name, strength = None):\n",
    "        self.name = name\n",
    "        self.strength = strength if strength else rnd.uniform(0,1)\n",
    "    def __str__(self):\n",
    "        return self.name\n",
    "    def __repr__(self):\n",
    "        return self.name\n",
    "    def __lt__(self, t):\n",
    "        return self.strength < t.strength + rnd.gauss(0, Team.LUCK)"
   ]
  },
  {
   "cell_type": "code",
   "execution_count": 2,
   "id": "3f7da377",
   "metadata": {},
   "outputs": [],
   "source": [
    "teams_data = [[(\"Italy\", 7), (\"Wales\", 17), (\"Switzerland\", 13), (\"Turkey\", 29)], [(\"Belgium\", 1), (\"Denmark\", 10), (\"Finland\", 54), (\"Russia\", 38)], [(\"Netherlands\", 16), (\"Austria\", 23), (\"Ukraine\", 24), (\"North Macedonia\", 62)], [(\"England\", 4), (\"Croatia\", 14), (\"Czech Republic\", 40), (\"Scotland\", 44)], [(\"Sweden\", 18), (\"Spain\", 6), (\"Slovakia\", 36), (\"Poland\", 21)], [(\"France\", 2), (\"Germany\", 12), (\"Portugal\", 5), (\"Hungary\", 37)]]\n"
   ]
  },
  {
   "cell_type": "code",
   "execution_count": 3,
   "id": "5534c224",
   "metadata": {},
   "outputs": [
    {
     "name": "stdout",
     "output_type": "stream",
     "text": [
      "[[Italy, Wales, Switzerland, Turkey], [Belgium, Denmark, Finland, Russia], [Netherlands, Austria, Ukraine, North Macedonia], [England, Croatia, Czech Republic, Scotland], [Sweden, Spain, Slovakia, Poland], [France, Germany, Portugal, Hungary]]\n"
     ]
    }
   ],
   "source": [
    "ratings = sum([[rating for _,rating in group_data] \n",
    "               for group_data in teams_data], [])\n",
    "smallest = min(ratings)\n",
    "largest = max(ratings)\n",
    "teams = [[Team(name, 1 - (rating - smallest) / (largest - smallest))\n",
    "         for name,rating in group_data] for group_data in teams_data]\n",
    "print(teams)"
   ]
  },
  {
   "cell_type": "code",
   "execution_count": 4,
   "id": "65160a61",
   "metadata": {},
   "outputs": [
    {
     "name": "stdout",
     "output_type": "stream",
     "text": [
      "[[Italy, Switzerland, Wales, Turkey], [Belgium, Denmark, Russia, Finland], [North Macedonia, Netherlands, Austria, Ukraine], [England, Croatia, Czech Republic, Scotland], [Spain, Sweden, Poland, Slovakia], [France, Portugal, Germany, Hungary]]\n"
     ]
    }
   ],
   "source": [
    "after_groups = [sorted(group, reverse=True) for group in teams]\n",
    "third_placers = sorted([g[2] for g in after_groups], reverse=True)[:4]\n",
    "winners = sum([g[:2] for g in after_groups], [])\n",
    "teams16 = winners + third_placers\n",
    "print(after_groups)"
   ]
  },
  {
   "cell_type": "code",
   "execution_count": 5,
   "id": "188f54b9",
   "metadata": {},
   "outputs": [
    {
     "name": "stdout",
     "output_type": "stream",
     "text": [
      "[Germany, Wales, Poland, Austria]\n"
     ]
    }
   ],
   "source": [
    "print(third_placers)"
   ]
  },
  {
   "cell_type": "code",
   "execution_count": 6,
   "id": "85a159ab",
   "metadata": {},
   "outputs": [
    {
     "name": "stdout",
     "output_type": "stream",
     "text": [
      "[Italy, Switzerland, Belgium, Denmark, North Macedonia, Netherlands, England, Croatia, Spain, Sweden, France, Portugal]\n"
     ]
    }
   ],
   "source": [
    "print(winners)"
   ]
  },
  {
   "cell_type": "code",
   "execution_count": 7,
   "id": "bd102bb4",
   "metadata": {},
   "outputs": [
    {
     "name": "stdout",
     "output_type": "stream",
     "text": [
      "[Italy, Switzerland, Belgium, Denmark, North Macedonia, Netherlands, England, Croatia, Spain, Sweden, France, Portugal, Germany, Wales, Poland, Austria]\n"
     ]
    }
   ],
   "source": [
    "print(teams16)"
   ]
  },
  {
   "cell_type": "code",
   "execution_count": 8,
   "id": "226c3b35",
   "metadata": {},
   "outputs": [],
   "source": [
    "rnd.shuffle(teams16)\n",
    "pairs16 = zip(teams16[::2], teams16[1::2])"
   ]
  },
  {
   "cell_type": "code",
   "execution_count": 9,
   "id": "dc80214e",
   "metadata": {},
   "outputs": [],
   "source": [
    "teams8 = [sorted(g, reverse=True)[0] for g in pairs16]\n",
    "pairs8 = zip(teams8[::2], teams8[1::2])\n",
    "teams4 = [sorted(g, reverse=True)[0] for g in pairs8]\n",
    "pairs4 = zip(teams4[::2], teams4[1::2])"
   ]
  },
  {
   "cell_type": "code",
   "execution_count": 10,
   "id": "37e4f84f",
   "metadata": {},
   "outputs": [
    {
     "name": "stdout",
     "output_type": "stream",
     "text": [
      "[Belgium, Portugal, Croatia, Spain, France, Denmark, Germany, Netherlands]\n"
     ]
    }
   ],
   "source": [
    "print(teams8)"
   ]
  },
  {
   "cell_type": "code",
   "execution_count": 11,
   "id": "25f82ce9",
   "metadata": {},
   "outputs": [
    {
     "name": "stdout",
     "output_type": "stream",
     "text": [
      "[Belgium, Spain, France, Germany]\n"
     ]
    }
   ],
   "source": [
    "print(teams4)"
   ]
  },
  {
   "cell_type": "code",
   "execution_count": 12,
   "id": "546f0639",
   "metadata": {},
   "outputs": [
    {
     "name": "stdout",
     "output_type": "stream",
     "text": [
      "Belgium France\n"
     ]
    }
   ],
   "source": [
    "teams2 = [sorted(g, reverse=True) for g in pairs4]\n",
    "first, second = sorted([teams2[0][0], teams2[1][0]], reverse=True)\n",
    "third, fourth = sorted([teams2[0][1], teams2[1][1]], reverse=True)\n",
    "print(first, second)"
   ]
  },
  {
   "cell_type": "code",
   "execution_count": 13,
   "id": "b6b85aee",
   "metadata": {},
   "outputs": [
    {
     "name": "stdout",
     "output_type": "stream",
     "text": [
      "Spain Germany\n"
     ]
    }
   ],
   "source": [
    "print(third, fourth)"
   ]
  },
  {
   "cell_type": "code",
   "execution_count": null,
   "id": "0445ad8e",
   "metadata": {},
   "outputs": [],
   "source": []
  }
 ],
 "metadata": {
  "kernelspec": {
   "display_name": "Python 3",
   "language": "python",
   "name": "python3"
  },
  "language_info": {
   "codemirror_mode": {
    "name": "ipython",
    "version": 3
   },
   "file_extension": ".py",
   "mimetype": "text/x-python",
   "name": "python",
   "nbconvert_exporter": "python",
   "pygments_lexer": "ipython3",
   "version": "3.8.8"
  }
 },
 "nbformat": 4,
 "nbformat_minor": 5
}
